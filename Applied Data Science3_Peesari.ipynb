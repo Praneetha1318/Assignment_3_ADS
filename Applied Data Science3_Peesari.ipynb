{
 "cells": [
  {
   "cell_type": "markdown",
   "id": "23561c40",
   "metadata": {},
   "source": [
    "**NAME - Peesari**"
   ]
  },
  {
   "cell_type": "code",
   "execution_count": null,
   "id": "e6f262bb",
   "metadata": {},
   "outputs": [],
   "source": [
    "pip install wbgapi"
   ]
  },
  {
   "cell_type": "code",
   "execution_count": 10,
   "id": "6a4e2270",
   "metadata": {},
   "outputs": [],
   "source": [
    "import pandas as pd\n",
    "import wbgapi as wb\n",
    "import sklearn\n",
    "from sklearn.preprocessing import StandardScaler\n",
    "from sklearn.datasets import make_blobs\n",
    "from numpy import array, exp\n",
    "from scipy.optimize import curve_fit\n",
    "import matplotlib.pyplot as plt\n",
    "from sklearn.cluster import KMeans\n",
    "import matplotlib.pyplot as plt\n",
    "import seaborn as sns"
   ]
  },
  {
   "cell_type": "code",
   "execution_count": 2,
   "id": "3fe930c1",
   "metadata": {},
   "outputs": [],
   "source": [
    "ecnmy = ['NE.IMP.GNFS.ZS','NY.GDP.MKTP.PP.CD']\n",
    "contry = [\"JPN\",\"AUS\",'JAM','PAK','CHE','IND','CHL','GBR','LUX','BGR']\n",
    "clim=['EN.ATM.CO2E.PC','EN.ATM.GHGT.KT.CE']\n",
    "dat_ecnmy  = wb.data.DataFrame(ecnmy, contry, mrv=6)\n",
    "dat_clim = wb.data.DataFrame(clim, contry, mrv=6)\n",
    "#NE.IMP.GNFS.ZS: Import\n",
    "#NY.GDP.MKTP.PP.CD: GDP, PPP basis\n",
    "#EN.ATM.CO2E.PC: CO2 emissions calculated in metric tons per capita\n",
    "#EN.ATM.GHGT.KT.CE: Greenhouse gas emission"
   ]
  },
  {
   "cell_type": "code",
   "execution_count": 3,
   "id": "5f0908f8",
   "metadata": {},
   "outputs": [
    {
     "data": {
      "text/html": [
       "<div>\n",
       "<style scoped>\n",
       "    .dataframe tbody tr th:only-of-type {\n",
       "        vertical-align: middle;\n",
       "    }\n",
       "\n",
       "    .dataframe tbody tr th {\n",
       "        vertical-align: top;\n",
       "    }\n",
       "\n",
       "    .dataframe thead th {\n",
       "        text-align: right;\n",
       "    }\n",
       "</style>\n",
       "<table border=\"1\" class=\"dataframe\">\n",
       "  <thead>\n",
       "    <tr style=\"text-align: right;\">\n",
       "      <th></th>\n",
       "      <th>series</th>\n",
       "      <th>NE.IMP.GNFS.ZS</th>\n",
       "      <th>NY.GDP.MKTP.PP.CD</th>\n",
       "    </tr>\n",
       "    <tr>\n",
       "      <th>Country_Code</th>\n",
       "      <th>Year</th>\n",
       "      <th></th>\n",
       "      <th></th>\n",
       "    </tr>\n",
       "  </thead>\n",
       "  <tbody>\n",
       "    <tr>\n",
       "      <th rowspan=\"5\" valign=\"top\">AUS</th>\n",
       "      <th>2015</th>\n",
       "      <td>21.556339</td>\n",
       "      <td>1.101457e+12</td>\n",
       "    </tr>\n",
       "    <tr>\n",
       "      <th>2016</th>\n",
       "      <td>21.547899</td>\n",
       "      <td>1.143149e+12</td>\n",
       "    </tr>\n",
       "    <tr>\n",
       "      <th>2017</th>\n",
       "      <td>20.714438</td>\n",
       "      <td>1.190694e+12</td>\n",
       "    </tr>\n",
       "    <tr>\n",
       "      <th>2018</th>\n",
       "      <td>21.512513</td>\n",
       "      <td>1.253361e+12</td>\n",
       "    </tr>\n",
       "    <tr>\n",
       "      <th>2019</th>\n",
       "      <td>21.675312</td>\n",
       "      <td>1.312637e+12</td>\n",
       "    </tr>\n",
       "  </tbody>\n",
       "</table>\n",
       "</div>"
      ],
      "text/plain": [
       "series             NE.IMP.GNFS.ZS  NY.GDP.MKTP.PP.CD\n",
       "Country_Code Year                                   \n",
       "AUS          2015       21.556339       1.101457e+12\n",
       "             2016       21.547899       1.143149e+12\n",
       "             2017       20.714438       1.190694e+12\n",
       "             2018       21.512513       1.253361e+12\n",
       "             2019       21.675312       1.312637e+12"
      ]
     },
     "execution_count": 3,
     "metadata": {},
     "output_type": "execute_result"
    }
   ],
   "source": [
    "# Ecnmy of countries\n",
    "dat_ecnmy.columns = [a.replace('YR','') for a in dat_ecnmy.columns]      \n",
    "dat_ecnmy=dat_ecnmy.stack().unstack(level=1)                             \n",
    "dat_ecnmy.index.names = ['Country_Code', 'Year']                           \n",
    "dat_ecnmy.fillna(0)\n",
    "dat_ecnmy.columns                                                     \n",
    "dat_ecnmy.head(5)"
   ]
  },
  {
   "cell_type": "code",
   "execution_count": 4,
   "id": "47bc5635",
   "metadata": {},
   "outputs": [
    {
     "data": {
      "text/html": [
       "<div>\n",
       "<style scoped>\n",
       "    .dataframe tbody tr th:only-of-type {\n",
       "        vertical-align: middle;\n",
       "    }\n",
       "\n",
       "    .dataframe tbody tr th {\n",
       "        vertical-align: top;\n",
       "    }\n",
       "\n",
       "    .dataframe thead th {\n",
       "        text-align: right;\n",
       "    }\n",
       "</style>\n",
       "<table border=\"1\" class=\"dataframe\">\n",
       "  <thead>\n",
       "    <tr style=\"text-align: right;\">\n",
       "      <th></th>\n",
       "      <th>series</th>\n",
       "      <th>EN.ATM.CO2E.PC</th>\n",
       "      <th>EN.ATM.GHGT.KT.CE</th>\n",
       "    </tr>\n",
       "    <tr>\n",
       "      <th>Country_Code</th>\n",
       "      <th>Year</th>\n",
       "      <th></th>\n",
       "      <th></th>\n",
       "    </tr>\n",
       "  </thead>\n",
       "  <tbody>\n",
       "    <tr>\n",
       "      <th rowspan=\"5\" valign=\"top\">AUS</th>\n",
       "      <th>2013</th>\n",
       "      <td>16.398646</td>\n",
       "      <td>581890.0</td>\n",
       "    </tr>\n",
       "    <tr>\n",
       "      <th>2014</th>\n",
       "      <td>15.755876</td>\n",
       "      <td>593500.0</td>\n",
       "    </tr>\n",
       "    <tr>\n",
       "      <th>2015</th>\n",
       "      <td>15.786449</td>\n",
       "      <td>594580.0</td>\n",
       "    </tr>\n",
       "    <tr>\n",
       "      <th>2016</th>\n",
       "      <td>15.872080</td>\n",
       "      <td>573390.0</td>\n",
       "    </tr>\n",
       "    <tr>\n",
       "      <th>2017</th>\n",
       "      <td>15.738647</td>\n",
       "      <td>619790.0</td>\n",
       "    </tr>\n",
       "  </tbody>\n",
       "</table>\n",
       "</div>"
      ],
      "text/plain": [
       "series             EN.ATM.CO2E.PC  EN.ATM.GHGT.KT.CE\n",
       "Country_Code Year                                   \n",
       "AUS          2013       16.398646           581890.0\n",
       "             2014       15.755876           593500.0\n",
       "             2015       15.786449           594580.0\n",
       "             2016       15.872080           573390.0\n",
       "             2017       15.738647           619790.0"
      ]
     },
     "execution_count": 4,
     "metadata": {},
     "output_type": "execute_result"
    }
   ],
   "source": [
    "# CLIMATE of cnries\n",
    "dat_clim.columns = [a.replace('YR','') for a in dat_clim.columns]      \n",
    "dat_clim=dat_clim.stack().unstack(level=1)                             \n",
    "dat_clim.index.names = ['Country_Code', 'Year']                           \n",
    "dat_clim.fillna(0)\n",
    "dat_clim.columns                                                     \n",
    "dat_clim.head(5)"
   ]
  },
  {
   "cell_type": "code",
   "execution_count": 5,
   "id": "ddc0c3d0",
   "metadata": {},
   "outputs": [],
   "source": [
    "#Cleaning dataset\n",
    "a=dat_ecnmy.reset_index()\n",
    "b=dat_clim.reset_index()\n",
    "c=a.fillna(0)\n",
    "d=b.fillna(0)"
   ]
  },
  {
   "cell_type": "code",
   "execution_count": 6,
   "id": "b637c7e9",
   "metadata": {},
   "outputs": [
    {
     "data": {
      "text/html": [
       "<div>\n",
       "<style scoped>\n",
       "    .dataframe tbody tr th:only-of-type {\n",
       "        vertical-align: middle;\n",
       "    }\n",
       "\n",
       "    .dataframe tbody tr th {\n",
       "        vertical-align: top;\n",
       "    }\n",
       "\n",
       "    .dataframe thead th {\n",
       "        text-align: right;\n",
       "    }\n",
       "</style>\n",
       "<table border=\"1\" class=\"dataframe\">\n",
       "  <thead>\n",
       "    <tr style=\"text-align: right;\">\n",
       "      <th>series</th>\n",
       "      <th>Country_Code</th>\n",
       "      <th>Year</th>\n",
       "      <th>NE.IMP.GNFS.ZS</th>\n",
       "      <th>NY.GDP.MKTP.PP.CD</th>\n",
       "      <th>EN.ATM.CO2E.PC</th>\n",
       "      <th>EN.ATM.GHGT.KT.CE</th>\n",
       "    </tr>\n",
       "  </thead>\n",
       "  <tbody>\n",
       "    <tr>\n",
       "      <th>0</th>\n",
       "      <td>AUS</td>\n",
       "      <td>2015</td>\n",
       "      <td>21.556339</td>\n",
       "      <td>1.101457e+12</td>\n",
       "      <td>15.786449</td>\n",
       "      <td>594580.0</td>\n",
       "    </tr>\n",
       "    <tr>\n",
       "      <th>1</th>\n",
       "      <td>AUS</td>\n",
       "      <td>2016</td>\n",
       "      <td>21.547899</td>\n",
       "      <td>1.143149e+12</td>\n",
       "      <td>15.872080</td>\n",
       "      <td>573390.0</td>\n",
       "    </tr>\n",
       "    <tr>\n",
       "      <th>2</th>\n",
       "      <td>AUS</td>\n",
       "      <td>2017</td>\n",
       "      <td>20.714438</td>\n",
       "      <td>1.190694e+12</td>\n",
       "      <td>15.738647</td>\n",
       "      <td>619790.0</td>\n",
       "    </tr>\n",
       "    <tr>\n",
       "      <th>3</th>\n",
       "      <td>AUS</td>\n",
       "      <td>2018</td>\n",
       "      <td>21.512513</td>\n",
       "      <td>1.253361e+12</td>\n",
       "      <td>15.475516</td>\n",
       "      <td>615380.0</td>\n",
       "    </tr>\n",
       "    <tr>\n",
       "      <th>4</th>\n",
       "      <td>BGR</td>\n",
       "      <td>2015</td>\n",
       "      <td>62.900855</td>\n",
       "      <td>1.320171e+11</td>\n",
       "      <td>6.225976</td>\n",
       "      <td>57310.0</td>\n",
       "    </tr>\n",
       "    <tr>\n",
       "      <th>5</th>\n",
       "      <td>BGR</td>\n",
       "      <td>2016</td>\n",
       "      <td>58.963344</td>\n",
       "      <td>1.430866e+11</td>\n",
       "      <td>5.855926</td>\n",
       "      <td>54270.0</td>\n",
       "    </tr>\n",
       "    <tr>\n",
       "      <th>6</th>\n",
       "      <td>BGR</td>\n",
       "      <td>2017</td>\n",
       "      <td>62.682001</td>\n",
       "      <td>1.519202e+11</td>\n",
       "      <td>6.223902</td>\n",
       "      <td>56450.0</td>\n",
       "    </tr>\n",
       "    <tr>\n",
       "      <th>7</th>\n",
       "      <td>BGR</td>\n",
       "      <td>2018</td>\n",
       "      <td>63.155915</td>\n",
       "      <td>1.616873e+11</td>\n",
       "      <td>5.854773</td>\n",
       "      <td>53330.0</td>\n",
       "    </tr>\n",
       "  </tbody>\n",
       "</table>\n",
       "</div>"
      ],
      "text/plain": [
       "series Country_Code  Year  NE.IMP.GNFS.ZS  NY.GDP.MKTP.PP.CD  EN.ATM.CO2E.PC  \\\n",
       "0               AUS  2015       21.556339       1.101457e+12       15.786449   \n",
       "1               AUS  2016       21.547899       1.143149e+12       15.872080   \n",
       "2               AUS  2017       20.714438       1.190694e+12       15.738647   \n",
       "3               AUS  2018       21.512513       1.253361e+12       15.475516   \n",
       "4               BGR  2015       62.900855       1.320171e+11        6.225976   \n",
       "5               BGR  2016       58.963344       1.430866e+11        5.855926   \n",
       "6               BGR  2017       62.682001       1.519202e+11        6.223902   \n",
       "7               BGR  2018       63.155915       1.616873e+11        5.854773   \n",
       "\n",
       "series  EN.ATM.GHGT.KT.CE  \n",
       "0                594580.0  \n",
       "1                573390.0  \n",
       "2                619790.0  \n",
       "3                615380.0  \n",
       "4                 57310.0  \n",
       "5                 54270.0  \n",
       "6                 56450.0  \n",
       "7                 53330.0  "
      ]
     },
     "execution_count": 6,
     "metadata": {},
     "output_type": "execute_result"
    }
   ],
   "source": [
    "#Merging the dataframes\n",
    "e = pd.merge(c, d)\n",
    "e.head(8)"
   ]
  },
  {
   "cell_type": "code",
   "execution_count": 7,
   "id": "c31b80a9",
   "metadata": {},
   "outputs": [
    {
     "data": {
      "text/html": [
       "<div>\n",
       "<style scoped>\n",
       "    .dataframe tbody tr th:only-of-type {\n",
       "        vertical-align: middle;\n",
       "    }\n",
       "\n",
       "    .dataframe tbody tr th {\n",
       "        vertical-align: top;\n",
       "    }\n",
       "\n",
       "    .dataframe thead th {\n",
       "        text-align: right;\n",
       "    }\n",
       "</style>\n",
       "<table border=\"1\" class=\"dataframe\">\n",
       "  <thead>\n",
       "    <tr style=\"text-align: right;\">\n",
       "      <th>series</th>\n",
       "      <th>Country_Code</th>\n",
       "      <th>Year</th>\n",
       "      <th>NE.IMP.GNFS.ZS</th>\n",
       "      <th>NY.GDP.MKTP.PP.CD</th>\n",
       "      <th>EN.ATM.CO2E.PC</th>\n",
       "      <th>EN.ATM.GHGT.KT.CE</th>\n",
       "    </tr>\n",
       "  </thead>\n",
       "  <tbody>\n",
       "    <tr>\n",
       "      <th>0</th>\n",
       "      <td>AUS</td>\n",
       "      <td>2015</td>\n",
       "      <td>0.042463</td>\n",
       "      <td>0.119507</td>\n",
       "      <td>0.984073</td>\n",
       "      <td>0.174046</td>\n",
       "    </tr>\n",
       "    <tr>\n",
       "      <th>1</th>\n",
       "      <td>AUS</td>\n",
       "      <td>2016</td>\n",
       "      <td>0.042406</td>\n",
       "      <td>0.124138</td>\n",
       "      <td>0.989703</td>\n",
       "      <td>0.167751</td>\n",
       "    </tr>\n",
       "    <tr>\n",
       "      <th>2</th>\n",
       "      <td>AUS</td>\n",
       "      <td>2017</td>\n",
       "      <td>0.036792</td>\n",
       "      <td>0.129418</td>\n",
       "      <td>0.980929</td>\n",
       "      <td>0.181535</td>\n",
       "    </tr>\n",
       "    <tr>\n",
       "      <th>3</th>\n",
       "      <td>AUS</td>\n",
       "      <td>2018</td>\n",
       "      <td>0.042168</td>\n",
       "      <td>0.136378</td>\n",
       "      <td>0.963628</td>\n",
       "      <td>0.180225</td>\n",
       "    </tr>\n",
       "    <tr>\n",
       "      <th>4</th>\n",
       "      <td>BGR</td>\n",
       "      <td>2015</td>\n",
       "      <td>0.320952</td>\n",
       "      <td>0.011839</td>\n",
       "      <td>0.355441</td>\n",
       "      <td>0.014443</td>\n",
       "    </tr>\n",
       "    <tr>\n",
       "      <th>5</th>\n",
       "      <td>BGR</td>\n",
       "      <td>2016</td>\n",
       "      <td>0.294430</td>\n",
       "      <td>0.013069</td>\n",
       "      <td>0.331109</td>\n",
       "      <td>0.013540</td>\n",
       "    </tr>\n",
       "    <tr>\n",
       "      <th>6</th>\n",
       "      <td>BGR</td>\n",
       "      <td>2017</td>\n",
       "      <td>0.319478</td>\n",
       "      <td>0.014050</td>\n",
       "      <td>0.355304</td>\n",
       "      <td>0.014188</td>\n",
       "    </tr>\n",
       "    <tr>\n",
       "      <th>7</th>\n",
       "      <td>BGR</td>\n",
       "      <td>2018</td>\n",
       "      <td>0.322670</td>\n",
       "      <td>0.015134</td>\n",
       "      <td>0.331033</td>\n",
       "      <td>0.013261</td>\n",
       "    </tr>\n",
       "    <tr>\n",
       "      <th>8</th>\n",
       "      <td>CHE</td>\n",
       "      <td>2015</td>\n",
       "      <td>0.238941</td>\n",
       "      <td>0.057906</td>\n",
       "      <td>0.255918</td>\n",
       "      <td>0.011591</td>\n",
       "    </tr>\n",
       "    <tr>\n",
       "      <th>9</th>\n",
       "      <td>CHE</td>\n",
       "      <td>2016</td>\n",
       "      <td>0.261364</td>\n",
       "      <td>0.060512</td>\n",
       "      <td>0.257108</td>\n",
       "      <td>0.011734</td>\n",
       "    </tr>\n",
       "  </tbody>\n",
       "</table>\n",
       "</div>"
      ],
      "text/plain": [
       "series Country_Code  Year  NE.IMP.GNFS.ZS  NY.GDP.MKTP.PP.CD  EN.ATM.CO2E.PC  \\\n",
       "0               AUS  2015        0.042463           0.119507        0.984073   \n",
       "1               AUS  2016        0.042406           0.124138        0.989703   \n",
       "2               AUS  2017        0.036792           0.129418        0.980929   \n",
       "3               AUS  2018        0.042168           0.136378        0.963628   \n",
       "4               BGR  2015        0.320952           0.011839        0.355441   \n",
       "5               BGR  2016        0.294430           0.013069        0.331109   \n",
       "6               BGR  2017        0.319478           0.014050        0.355304   \n",
       "7               BGR  2018        0.322670           0.015134        0.331033   \n",
       "8               CHE  2015        0.238941           0.057906        0.255918   \n",
       "9               CHE  2016        0.261364           0.060512        0.257108   \n",
       "\n",
       "series  EN.ATM.GHGT.KT.CE  \n",
       "0                0.174046  \n",
       "1                0.167751  \n",
       "2                0.181535  \n",
       "3                0.180225  \n",
       "4                0.014443  \n",
       "5                0.013540  \n",
       "6                0.014188  \n",
       "7                0.013261  \n",
       "8                0.011591  \n",
       "9                0.011734  "
      ]
     },
     "execution_count": 7,
     "metadata": {},
     "output_type": "execute_result"
    }
   ],
   "source": [
    "#Normalization of the dataset\n",
    "f = e.iloc[:,2:]\n",
    "e.iloc[:,2:] = (f-f.min())/ (f.max() - f.min())\n",
    "e.head(10)"
   ]
  },
  {
   "cell_type": "code",
   "execution_count": 8,
   "id": "118760ab",
   "metadata": {},
   "outputs": [],
   "source": [
    "#Clustering using K-means\n",
    "e_v = e.drop('Country_Code', axis = 1)\n",
    "km = KMeans(n_clusters=3, init='k-means++', random_state=0).fit(e_v)"
   ]
  },
  {
   "cell_type": "code",
   "execution_count": 11,
   "id": "54f4113c",
   "metadata": {},
   "outputs": [
    {
     "data": {
      "image/png": "[encoded data removed]",
      "text/plain": [
       "<Figure size 432x288 with 1 Axes>"
      ]
     },
     "metadata": {
      "needs_background": "light"
     },
     "output_type": "display_data"
    }
   ],
   "source": [
    "#Clustering based on carbon dioxide emission\n",
    "sns.scatterplot(data=e, x=\"Country_Code\", y=\"EN.ATM.CO2E.PC\", hue=km.labels_)\n",
    "plt.legend(loc='best')\n",
    "plt.show()"
   ]
  },
  {
   "cell_type": "code",
   "execution_count": 12,
   "id": "ab75e992",
   "metadata": {},
   "outputs": [
    {
     "data": {
      "image/png": "[encoded data removed]",
      "text/plain": [
       "<Figure size 432x288 with 1 Axes>"
      ]
     },
     "metadata": {
      "needs_background": "light"
     },
     "output_type": "display_data"
    }
   ],
   "source": [
    "#Scatter plot for GDP, PPP vs greenshouse gas emission\n",
    "import matplotlib.pyplot as plt\n",
    "from scipy.optimize import curve_fit\n",
    "\n",
    "t=e[(e['Country_Code']=='JPN')]\n",
    "fn = t.values\n",
    "x, y = fn[:, 3], fn[:, 5]\n",
    "\n",
    "plt.scatter(x, y,color=\"green\")\n",
    "\n",
    "plt.ylabel('Total greenhouse gas emission')\n",
    "plt.xlabel('GDP-Purchase Power parity')\n",
    "plt.show()"
   ]
  },
  {
   "cell_type": "code",
   "execution_count": 15,
   "id": "3015bd71",
   "metadata": {},
   "outputs": [
    {
     "name": "stdout",
     "output_type": "stream",
     "text": [
      "The covariance is:  [[ 4.43453597e+02 -4.01081013e+00  8.99678182e-03]\n",
      " [-4.01081013e+00  3.63226120e-02 -8.15866593e-05]\n",
      " [ 8.99678182e-03 -8.15866593e-05  1.83523300e-07]]\n",
      "The params is:  [ 3.62225206e+02 -3.23817227e+00  7.56060712e-03]\n"
     ]
    },
    {
     "data": {
      "image/png": "[encoded data removed]",
      "text/plain": [
       "<Figure size 432x288 with 1 Axes>"
      ]
     },
     "metadata": {
      "needs_background": "light"
     },
     "output_type": "display_data"
    }
   ],
   "source": [
    "#Implementing the curve_fit function for Luxembourg with high carbon dioxide emissions calculated in metric tons per capita\n",
    "t1=e[(e['Country_Code']=='LUX')]\n",
    "fn1 = t1.values\n",
    "\n",
    "x, y = fn1[:, 3], fn1[:, 5]\n",
    "def funct(x, a, b, c):\n",
    "    return a*x**2+b*x+c\n",
    "par, cova = curve_fit(funct, x, y)\n",
    "print(\"The covariance is: \", cova)\n",
    "print(\"The params is: \", par)\n",
    "par, _ = curve_fit(funct, x, y)\n",
    "a, b, c = par[0], par[1], par[2]\n",
    "yfit = a*x**2+b*x+c\n",
    "\n",
    "import warnings\n",
    "\n",
    "with warnings.catch_warnings(record=True):\n",
    "    plt.plot(x, yfit, label=\"y=a*x**2+b*x+c\",color=\"green\")\n",
    "    plt.grid(True)\n",
    "    plt.plot(x, y, 'bo', label=\"Actual y\",color=\"green\")\n",
    "    plt.ylabel('Total greenhouse gas emission')\n",
    "    plt.xlabel('GDP-Purchase Power parity')\n",
    "\n",
    "    plt.legend(loc='best', fancybox=True, shadow=True)\n",
    "\n",
    "    plt.show() "
   ]
  },
  {
   "cell_type": "code",
   "execution_count": 13,
   "id": "28fc3ad0",
   "metadata": {},
   "outputs": [
    {
     "name": "stdout",
     "output_type": "stream",
     "text": [
      "The covariance is:  [[ 717.57172341 -832.8805006   241.63739919]\n",
      " [-832.8805006   966.74221363 -280.4805251 ]\n",
      " [ 241.63739919 -280.4805251    81.37767521]]\n",
      "The params is:  [-65.59146993  75.00451338 -21.07007305]\n"
     ]
    },
    {
     "data": {
      "image/png": "[encoded data removed]",
      "text/plain": [
       "<Figure size 432x288 with 1 Axes>"
      ]
     },
     "metadata": {
      "needs_background": "light"
     },
     "output_type": "display_data"
    }
   ],
   "source": [
    "#Implementing the curve_fit function for Japan with medium carbon dioxide emissions calculated in metric tons per capita\n",
    "x, y = fn[:, 3], fn[:, 5]\n",
    "def funct(x, a, b, c):\n",
    "    return a*x**2+b*x+c\n",
    "par, cova = curve_fit(funct, x, y)\n",
    "print(\"The covariance is: \", cova)\n",
    "print(\"The params is: \", par)\n",
    "par, _ = curve_fit(funct, x, y)\n",
    "a, b, c = par[0], par[1], par[2]\n",
    "yfit = a*x**2+b*x+c\n",
    "\n",
    "import warnings\n",
    "\n",
    "with warnings.catch_warnings(record=True):\n",
    "    plt.plot(x, yfit, label=\"y=a*x**2+b*x+c\",color=\"green\")\n",
    "    plt.grid(True)\n",
    "    plt.plot(x, y, 'bo', label=\"Actual y\",color=\"green\")\n",
    "    plt.ylabel('Total greenhouse gas emission')\n",
    "    plt.xlabel('GDP-Purchase Power parity')\n",
    "\n",
    "    plt.legend(loc='best', fancybox=True, shadow=True)\n",
    "\n",
    "    plt.show() "
   ]
  },
  {
   "cell_type": "code",
   "execution_count": 17,
   "id": "93878b4b",
   "metadata": {},
   "outputs": [
    {
     "name": "stdout",
     "output_type": "stream",
     "text": [
      "The covariance is:  [[ 1.99756088e+02 -4.11562051e+01  2.11032838e+00]\n",
      " [-4.11562051e+01  8.48408323e+00 -4.35259389e-01]\n",
      " [ 2.11032838e+00 -4.35259389e-01  2.23417916e-02]]\n",
      "The params is:  [-66.23932602  14.70060092  -0.6901669 ]\n"
     ]
    },
    {
     "data": {
      "image/png": "[encoded data removed]",
      "text/plain": [
       "<Figure size 432x288 with 1 Axes>"
      ]
     },
     "metadata": {
      "needs_background": "light"
     },
     "output_type": "display_data"
    }
   ],
   "source": [
    "#Implementing the curve_fit function for Pakistan with low carbon dioxide emissions calculated in metric tons per capita\n",
    "t2=e[(e['Country_Code']=='PAK')]\n",
    "fn2 = t2.values\n",
    "\n",
    "x, y = fn2[:, 3], fn2[:, 5]\n",
    "def funct(x, a, b, c):\n",
    "    return a*x**2+b*x+c\n",
    "par, cova = curve_fit(funct, x, y)\n",
    "print(\"The covariance is: \", cova)\n",
    "print(\"The params is: \", par)\n",
    "par, _ = curve_fit(funct, x, y)\n",
    "a, b, c = par[0], par[1], par[2]\n",
    "yfit = a*x**2+b*x+c\n",
    "\n",
    "import warnings\n",
    "\n",
    "with warnings.catch_warnings(record=True):\n",
    "    plt.plot(x, yfit, label=\"y=a*x**2+b*x+c\",color=\"green\")\n",
    "    plt.grid(True)\n",
    "    plt.plot(x, y, 'bo', label=\"Actual y\",color=\"green\")\n",
    "    plt.ylabel('Total greenhouse gas emission')\n",
    "    plt.xlabel('GDP-Purchase Power parity')\n",
    "\n",
    "    plt.legend(loc='best', fancybox=True, shadow=True)\n",
    "\n",
    "    plt.show() "
   ]
  },
  {
   "cell_type": "markdown",
   "id": "574388e0",
   "metadata": {},
   "source": [
    "**From the above line graph visualisations it can be concluded that for country with high carbon dioxide emissions, the relationship between total greenhouse emissions and purchase power parity, GDP is indirect at the beginning and after a certain value of purchase power parity, GDP the relationship is direct. For the country with medium carbon dioxide emissions,the relationship between total greenhouse emissions and purchase power parity, GDP is indirect. For the country with low carbon dioxide emissions the relationship between total greenhouse emissions and purchase power parity, GDP is direct.**"
   ]
  },
  {
   "cell_type": "code",
   "execution_count": 14,
   "id": "7ef7d8ca",
   "metadata": {},
   "outputs": [],
   "source": [
    "def err_ranges(x, func, param, sigma):\n",
    "    import itertools as iter\n",
    "    # initiate arrays for lower and upper limits\n",
    "    lower = func(x, *param)\n",
    "    upper = lower\n",
    "    \n",
    "    uplow = []   # list to hold upper and lower limits for parameters\n",
    "    for p,s in zip(param, sigma):\n",
    "        pmin = p - s\n",
    "        pmax = p + s\n",
    "        uplow.append((pmin, pmax))\n",
    "        \n",
    "    pmix = list(iter.product(*uplow))\n",
    "    \n",
    "    for p in pmix:\n",
    "        y = func(x, *p)\n",
    "        lower = np.minimum(lower, y)\n",
    "        upper = np.maximum(upper, y)\n",
    "        \n",
    "    return lower, upper "
   ]
  },
  {
   "cell_type": "code",
   "execution_count": null,
   "id": "72d2472d",
   "metadata": {},
   "outputs": [],
   "source": []
  },
  {
   "cell_type": "code",
   "execution_count": null,
   "id": "310b01c5",
   "metadata": {},
   "outputs": [],
   "source": []
  }
 ],
 "metadata": {
  "kernelspec": {
   "display_name": "Python 3 (ipykernel)",
   "language": "python",
   "name": "python3"
  },
  "language_info": {
   "codemirror_mode": {
    "name": "ipython",
    "version": 3
   },
   "file_extension": ".py",
   "mimetype": "text/x-python",
   "name": "python",
   "nbconvert_exporter": "python",
   "pygments_lexer": "ipython3",
   "version": "3.9.7"
  }
 },
 "nbformat": 4,
 "nbformat_minor": 5
}
